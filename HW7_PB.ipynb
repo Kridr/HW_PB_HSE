{
  "nbformat": 4,
  "nbformat_minor": 0,
  "metadata": {
    "colab": {
      "provenance": [],
      "authorship_tag": "ABX9TyPKTbIMThxT5vLWcl/vdJ9h",
      "include_colab_link": true
    },
    "kernelspec": {
      "name": "python3",
      "display_name": "Python 3"
    },
    "language_info": {
      "name": "python"
    }
  },
  "cells": [
    {
      "cell_type": "markdown",
      "metadata": {
        "id": "view-in-github",
        "colab_type": "text"
      },
      "source": [
        "<a href=\"https://colab.research.google.com/github/Kridr/HW_PB_HSE/blob/main/HW7_PB.ipynb\" target=\"_parent\"><img src=\"https://colab.research.google.com/assets/colab-badge.svg\" alt=\"Open In Colab\"/></a>"
      ]
    },
    {
      "cell_type": "code",
      "execution_count": 1,
      "metadata": {
        "colab": {
          "base_uri": "https://localhost:8080/"
        },
        "id": "SSPvA9nt6vgB",
        "outputId": "7d1d2110-7dc5-4472-88b5-3c2d6246f548"
      },
      "outputs": [
        {
          "output_type": "stream",
          "name": "stdout",
          "text": [
            "Looking in indexes: https://pypi.org/simple, https://us-python.pkg.dev/colab-wheels/public/simple/\n",
            "Requirement already satisfied: biopython in /usr/local/lib/python3.7/dist-packages (1.80)\n",
            "Requirement already satisfied: numpy in /usr/local/lib/python3.7/dist-packages (from biopython) (1.21.6)\n"
          ]
        }
      ],
      "source": [
        "!pip install biopython"
      ]
    },
    {
      "cell_type": "code",
      "source": [
        "from Bio import SeqIO\n",
        "import pandas as pd\n",
        "from collections import defaultdict"
      ],
      "metadata": {
        "id": "9looeWWjQ_Xk"
      },
      "execution_count": 2,
      "outputs": []
    },
    {
      "cell_type": "code",
      "source": [
        "gb_record = SeqIO.read(open(\"sequence.gb\", \"r\"), \"genbank\")"
      ],
      "metadata": {
        "id": "Nl-Qs5KX6z5h"
      },
      "execution_count": 3,
      "outputs": []
    },
    {
      "cell_type": "code",
      "source": [
        "d = defaultdict(list)\n",
        "for gb_feature in gb_record.features:\n",
        "    if gb_feature.type == 'gene':\n",
        "        d['start'].append(gb_feature.location.start)\n",
        "        d['end'].append(gb_feature.location.end)\n",
        "\n",
        "df_genbank = pd.DataFrame.from_dict(d)\n",
        "df_genbank.head(10)"
      ],
      "metadata": {
        "id": "cXVlfApgRTxT",
        "colab": {
          "base_uri": "https://localhost:8080/",
          "height": 363
        },
        "outputId": "e2da38ef-0ad0-4565-d593-e4f69afaed7f"
      },
      "execution_count": 4,
      "outputs": [
        {
          "output_type": "execute_result",
          "data": {
            "text/plain": [
              "   start    end\n",
              "0     84    597\n",
              "1    796   2835\n",
              "2   2350   4814\n",
              "3   5085   5808\n",
              "4   5852   6518\n",
              "5   6246   9593\n",
              "6   9588  13712\n",
              "7   9715  11446\n",
              "8  13801  17450\n",
              "9  17253  19136"
            ],
            "text/html": [
              "\n",
              "  <div id=\"df-bdb507e0-baa4-423d-927b-ec5d387f4ba8\">\n",
              "    <div class=\"colab-df-container\">\n",
              "      <div>\n",
              "<style scoped>\n",
              "    .dataframe tbody tr th:only-of-type {\n",
              "        vertical-align: middle;\n",
              "    }\n",
              "\n",
              "    .dataframe tbody tr th {\n",
              "        vertical-align: top;\n",
              "    }\n",
              "\n",
              "    .dataframe thead th {\n",
              "        text-align: right;\n",
              "    }\n",
              "</style>\n",
              "<table border=\"1\" class=\"dataframe\">\n",
              "  <thead>\n",
              "    <tr style=\"text-align: right;\">\n",
              "      <th></th>\n",
              "      <th>start</th>\n",
              "      <th>end</th>\n",
              "    </tr>\n",
              "  </thead>\n",
              "  <tbody>\n",
              "    <tr>\n",
              "      <th>0</th>\n",
              "      <td>84</td>\n",
              "      <td>597</td>\n",
              "    </tr>\n",
              "    <tr>\n",
              "      <th>1</th>\n",
              "      <td>796</td>\n",
              "      <td>2835</td>\n",
              "    </tr>\n",
              "    <tr>\n",
              "      <th>2</th>\n",
              "      <td>2350</td>\n",
              "      <td>4814</td>\n",
              "    </tr>\n",
              "    <tr>\n",
              "      <th>3</th>\n",
              "      <td>5085</td>\n",
              "      <td>5808</td>\n",
              "    </tr>\n",
              "    <tr>\n",
              "      <th>4</th>\n",
              "      <td>5852</td>\n",
              "      <td>6518</td>\n",
              "    </tr>\n",
              "    <tr>\n",
              "      <th>5</th>\n",
              "      <td>6246</td>\n",
              "      <td>9593</td>\n",
              "    </tr>\n",
              "    <tr>\n",
              "      <th>6</th>\n",
              "      <td>9588</td>\n",
              "      <td>13712</td>\n",
              "    </tr>\n",
              "    <tr>\n",
              "      <th>7</th>\n",
              "      <td>9715</td>\n",
              "      <td>11446</td>\n",
              "    </tr>\n",
              "    <tr>\n",
              "      <th>8</th>\n",
              "      <td>13801</td>\n",
              "      <td>17450</td>\n",
              "    </tr>\n",
              "    <tr>\n",
              "      <th>9</th>\n",
              "      <td>17253</td>\n",
              "      <td>19136</td>\n",
              "    </tr>\n",
              "  </tbody>\n",
              "</table>\n",
              "</div>\n",
              "      <button class=\"colab-df-convert\" onclick=\"convertToInteractive('df-bdb507e0-baa4-423d-927b-ec5d387f4ba8')\"\n",
              "              title=\"Convert this dataframe to an interactive table.\"\n",
              "              style=\"display:none;\">\n",
              "        \n",
              "  <svg xmlns=\"http://www.w3.org/2000/svg\" height=\"24px\"viewBox=\"0 0 24 24\"\n",
              "       width=\"24px\">\n",
              "    <path d=\"M0 0h24v24H0V0z\" fill=\"none\"/>\n",
              "    <path d=\"M18.56 5.44l.94 2.06.94-2.06 2.06-.94-2.06-.94-.94-2.06-.94 2.06-2.06.94zm-11 1L8.5 8.5l.94-2.06 2.06-.94-2.06-.94L8.5 2.5l-.94 2.06-2.06.94zm10 10l.94 2.06.94-2.06 2.06-.94-2.06-.94-.94-2.06-.94 2.06-2.06.94z\"/><path d=\"M17.41 7.96l-1.37-1.37c-.4-.4-.92-.59-1.43-.59-.52 0-1.04.2-1.43.59L10.3 9.45l-7.72 7.72c-.78.78-.78 2.05 0 2.83L4 21.41c.39.39.9.59 1.41.59.51 0 1.02-.2 1.41-.59l7.78-7.78 2.81-2.81c.8-.78.8-2.07 0-2.86zM5.41 20L4 18.59l7.72-7.72 1.47 1.35L5.41 20z\"/>\n",
              "  </svg>\n",
              "      </button>\n",
              "      \n",
              "  <style>\n",
              "    .colab-df-container {\n",
              "      display:flex;\n",
              "      flex-wrap:wrap;\n",
              "      gap: 12px;\n",
              "    }\n",
              "\n",
              "    .colab-df-convert {\n",
              "      background-color: #E8F0FE;\n",
              "      border: none;\n",
              "      border-radius: 50%;\n",
              "      cursor: pointer;\n",
              "      display: none;\n",
              "      fill: #1967D2;\n",
              "      height: 32px;\n",
              "      padding: 0 0 0 0;\n",
              "      width: 32px;\n",
              "    }\n",
              "\n",
              "    .colab-df-convert:hover {\n",
              "      background-color: #E2EBFA;\n",
              "      box-shadow: 0px 1px 2px rgba(60, 64, 67, 0.3), 0px 1px 3px 1px rgba(60, 64, 67, 0.15);\n",
              "      fill: #174EA6;\n",
              "    }\n",
              "\n",
              "    [theme=dark] .colab-df-convert {\n",
              "      background-color: #3B4455;\n",
              "      fill: #D2E3FC;\n",
              "    }\n",
              "\n",
              "    [theme=dark] .colab-df-convert:hover {\n",
              "      background-color: #434B5C;\n",
              "      box-shadow: 0px 1px 3px 1px rgba(0, 0, 0, 0.15);\n",
              "      filter: drop-shadow(0px 1px 2px rgba(0, 0, 0, 0.3));\n",
              "      fill: #FFFFFF;\n",
              "    }\n",
              "  </style>\n",
              "\n",
              "      <script>\n",
              "        const buttonEl =\n",
              "          document.querySelector('#df-bdb507e0-baa4-423d-927b-ec5d387f4ba8 button.colab-df-convert');\n",
              "        buttonEl.style.display =\n",
              "          google.colab.kernel.accessAllowed ? 'block' : 'none';\n",
              "\n",
              "        async function convertToInteractive(key) {\n",
              "          const element = document.querySelector('#df-bdb507e0-baa4-423d-927b-ec5d387f4ba8');\n",
              "          const dataTable =\n",
              "            await google.colab.kernel.invokeFunction('convertToInteractive',\n",
              "                                                     [key], {});\n",
              "          if (!dataTable) return;\n",
              "\n",
              "          const docLinkHtml = 'Like what you see? Visit the ' +\n",
              "            '<a target=\"_blank\" href=https://colab.research.google.com/notebooks/data_table.ipynb>data table notebook</a>'\n",
              "            + ' to learn more about interactive tables.';\n",
              "          element.innerHTML = '';\n",
              "          dataTable['output_type'] = 'display_data';\n",
              "          await google.colab.output.renderOutput(dataTable, element);\n",
              "          const docLink = document.createElement('div');\n",
              "          docLink.innerHTML = docLinkHtml;\n",
              "          element.appendChild(docLink);\n",
              "        }\n",
              "      </script>\n",
              "    </div>\n",
              "  </div>\n",
              "  "
            ]
          },
          "metadata": {},
          "execution_count": 4
        }
      ]
    },
    {
      "cell_type": "code",
      "source": [
        "df_genemark = pd.read_csv('genemark.txt', sep='\\s+', index_col='Gene', skiprows=9)\n",
        "df_genemark.LeftEnd[1] = 1\n",
        "df_genemark.LeftEnd = df_genemark.LeftEnd.astype(int)\n",
        "df_genemark.head(10)"
      ],
      "metadata": {
        "colab": {
          "base_uri": "https://localhost:8080/",
          "height": 485
        },
        "id": "eSgk1Y5UjMS_",
        "outputId": "96f6c2fa-307f-48fb-bdb6-1b008184626e"
      },
      "execution_count": 5,
      "outputs": [
        {
          "output_type": "stream",
          "name": "stderr",
          "text": [
            "/usr/local/lib/python3.7/dist-packages/ipykernel_launcher.py:2: SettingWithCopyWarning: \n",
            "A value is trying to be set on a copy of a slice from a DataFrame\n",
            "\n",
            "See the caveats in the documentation: https://pandas.pydata.org/pandas-docs/stable/user_guide/indexing.html#returning-a-view-versus-a-copy\n",
            "  \n"
          ]
        },
        {
          "output_type": "execute_result",
          "data": {
            "text/plain": [
              "     Strand  LeftEnd  RightEnd  Gene_Length  Class\n",
              "Gene                                              \n",
              "1         +        1       597          597      1\n",
              "2         +      828      2153         1326      1\n",
              "3         -     2836      4752         1917      1\n",
              "4         +     5104      5679          576      1\n",
              "5         +     5888      6307          420      1\n",
              "6         -     6949      7326          378      1\n",
              "7         -     8006      8578          573      1\n",
              "8         -     8675      9544          870      1\n",
              "9         +     9731     11119         1389      1\n",
              "10        -    11178     13700         2523      1"
            ],
            "text/html": [
              "\n",
              "  <div id=\"df-7390ea88-6332-49a3-bd78-ba725b351154\">\n",
              "    <div class=\"colab-df-container\">\n",
              "      <div>\n",
              "<style scoped>\n",
              "    .dataframe tbody tr th:only-of-type {\n",
              "        vertical-align: middle;\n",
              "    }\n",
              "\n",
              "    .dataframe tbody tr th {\n",
              "        vertical-align: top;\n",
              "    }\n",
              "\n",
              "    .dataframe thead th {\n",
              "        text-align: right;\n",
              "    }\n",
              "</style>\n",
              "<table border=\"1\" class=\"dataframe\">\n",
              "  <thead>\n",
              "    <tr style=\"text-align: right;\">\n",
              "      <th></th>\n",
              "      <th>Strand</th>\n",
              "      <th>LeftEnd</th>\n",
              "      <th>RightEnd</th>\n",
              "      <th>Gene_Length</th>\n",
              "      <th>Class</th>\n",
              "    </tr>\n",
              "    <tr>\n",
              "      <th>Gene</th>\n",
              "      <th></th>\n",
              "      <th></th>\n",
              "      <th></th>\n",
              "      <th></th>\n",
              "      <th></th>\n",
              "    </tr>\n",
              "  </thead>\n",
              "  <tbody>\n",
              "    <tr>\n",
              "      <th>1</th>\n",
              "      <td>+</td>\n",
              "      <td>1</td>\n",
              "      <td>597</td>\n",
              "      <td>597</td>\n",
              "      <td>1</td>\n",
              "    </tr>\n",
              "    <tr>\n",
              "      <th>2</th>\n",
              "      <td>+</td>\n",
              "      <td>828</td>\n",
              "      <td>2153</td>\n",
              "      <td>1326</td>\n",
              "      <td>1</td>\n",
              "    </tr>\n",
              "    <tr>\n",
              "      <th>3</th>\n",
              "      <td>-</td>\n",
              "      <td>2836</td>\n",
              "      <td>4752</td>\n",
              "      <td>1917</td>\n",
              "      <td>1</td>\n",
              "    </tr>\n",
              "    <tr>\n",
              "      <th>4</th>\n",
              "      <td>+</td>\n",
              "      <td>5104</td>\n",
              "      <td>5679</td>\n",
              "      <td>576</td>\n",
              "      <td>1</td>\n",
              "    </tr>\n",
              "    <tr>\n",
              "      <th>5</th>\n",
              "      <td>+</td>\n",
              "      <td>5888</td>\n",
              "      <td>6307</td>\n",
              "      <td>420</td>\n",
              "      <td>1</td>\n",
              "    </tr>\n",
              "    <tr>\n",
              "      <th>6</th>\n",
              "      <td>-</td>\n",
              "      <td>6949</td>\n",
              "      <td>7326</td>\n",
              "      <td>378</td>\n",
              "      <td>1</td>\n",
              "    </tr>\n",
              "    <tr>\n",
              "      <th>7</th>\n",
              "      <td>-</td>\n",
              "      <td>8006</td>\n",
              "      <td>8578</td>\n",
              "      <td>573</td>\n",
              "      <td>1</td>\n",
              "    </tr>\n",
              "    <tr>\n",
              "      <th>8</th>\n",
              "      <td>-</td>\n",
              "      <td>8675</td>\n",
              "      <td>9544</td>\n",
              "      <td>870</td>\n",
              "      <td>1</td>\n",
              "    </tr>\n",
              "    <tr>\n",
              "      <th>9</th>\n",
              "      <td>+</td>\n",
              "      <td>9731</td>\n",
              "      <td>11119</td>\n",
              "      <td>1389</td>\n",
              "      <td>1</td>\n",
              "    </tr>\n",
              "    <tr>\n",
              "      <th>10</th>\n",
              "      <td>-</td>\n",
              "      <td>11178</td>\n",
              "      <td>13700</td>\n",
              "      <td>2523</td>\n",
              "      <td>1</td>\n",
              "    </tr>\n",
              "  </tbody>\n",
              "</table>\n",
              "</div>\n",
              "      <button class=\"colab-df-convert\" onclick=\"convertToInteractive('df-7390ea88-6332-49a3-bd78-ba725b351154')\"\n",
              "              title=\"Convert this dataframe to an interactive table.\"\n",
              "              style=\"display:none;\">\n",
              "        \n",
              "  <svg xmlns=\"http://www.w3.org/2000/svg\" height=\"24px\"viewBox=\"0 0 24 24\"\n",
              "       width=\"24px\">\n",
              "    <path d=\"M0 0h24v24H0V0z\" fill=\"none\"/>\n",
              "    <path d=\"M18.56 5.44l.94 2.06.94-2.06 2.06-.94-2.06-.94-.94-2.06-.94 2.06-2.06.94zm-11 1L8.5 8.5l.94-2.06 2.06-.94-2.06-.94L8.5 2.5l-.94 2.06-2.06.94zm10 10l.94 2.06.94-2.06 2.06-.94-2.06-.94-.94-2.06-.94 2.06-2.06.94z\"/><path d=\"M17.41 7.96l-1.37-1.37c-.4-.4-.92-.59-1.43-.59-.52 0-1.04.2-1.43.59L10.3 9.45l-7.72 7.72c-.78.78-.78 2.05 0 2.83L4 21.41c.39.39.9.59 1.41.59.51 0 1.02-.2 1.41-.59l7.78-7.78 2.81-2.81c.8-.78.8-2.07 0-2.86zM5.41 20L4 18.59l7.72-7.72 1.47 1.35L5.41 20z\"/>\n",
              "  </svg>\n",
              "      </button>\n",
              "      \n",
              "  <style>\n",
              "    .colab-df-container {\n",
              "      display:flex;\n",
              "      flex-wrap:wrap;\n",
              "      gap: 12px;\n",
              "    }\n",
              "\n",
              "    .colab-df-convert {\n",
              "      background-color: #E8F0FE;\n",
              "      border: none;\n",
              "      border-radius: 50%;\n",
              "      cursor: pointer;\n",
              "      display: none;\n",
              "      fill: #1967D2;\n",
              "      height: 32px;\n",
              "      padding: 0 0 0 0;\n",
              "      width: 32px;\n",
              "    }\n",
              "\n",
              "    .colab-df-convert:hover {\n",
              "      background-color: #E2EBFA;\n",
              "      box-shadow: 0px 1px 2px rgba(60, 64, 67, 0.3), 0px 1px 3px 1px rgba(60, 64, 67, 0.15);\n",
              "      fill: #174EA6;\n",
              "    }\n",
              "\n",
              "    [theme=dark] .colab-df-convert {\n",
              "      background-color: #3B4455;\n",
              "      fill: #D2E3FC;\n",
              "    }\n",
              "\n",
              "    [theme=dark] .colab-df-convert:hover {\n",
              "      background-color: #434B5C;\n",
              "      box-shadow: 0px 1px 3px 1px rgba(0, 0, 0, 0.15);\n",
              "      filter: drop-shadow(0px 1px 2px rgba(0, 0, 0, 0.3));\n",
              "      fill: #FFFFFF;\n",
              "    }\n",
              "  </style>\n",
              "\n",
              "      <script>\n",
              "        const buttonEl =\n",
              "          document.querySelector('#df-7390ea88-6332-49a3-bd78-ba725b351154 button.colab-df-convert');\n",
              "        buttonEl.style.display =\n",
              "          google.colab.kernel.accessAllowed ? 'block' : 'none';\n",
              "\n",
              "        async function convertToInteractive(key) {\n",
              "          const element = document.querySelector('#df-7390ea88-6332-49a3-bd78-ba725b351154');\n",
              "          const dataTable =\n",
              "            await google.colab.kernel.invokeFunction('convertToInteractive',\n",
              "                                                     [key], {});\n",
              "          if (!dataTable) return;\n",
              "\n",
              "          const docLinkHtml = 'Like what you see? Visit the ' +\n",
              "            '<a target=\"_blank\" href=https://colab.research.google.com/notebooks/data_table.ipynb>data table notebook</a>'\n",
              "            + ' to learn more about interactive tables.';\n",
              "          element.innerHTML = '';\n",
              "          dataTable['output_type'] = 'display_data';\n",
              "          await google.colab.output.renderOutput(dataTable, element);\n",
              "          const docLink = document.createElement('div');\n",
              "          docLink.innerHTML = docLinkHtml;\n",
              "          element.appendChild(docLink);\n",
              "        }\n",
              "      </script>\n",
              "    </div>\n",
              "  </div>\n",
              "  "
            ]
          },
          "metadata": {},
          "execution_count": 5
        }
      ]
    },
    {
      "cell_type": "code",
      "source": [
        "len(df_genbank), len(df_genemark)"
      ],
      "metadata": {
        "colab": {
          "base_uri": "https://localhost:8080/"
        },
        "id": "OoCs1TTNfjqP",
        "outputId": "6cd9d232-096b-4f56-8de1-13dfd0b25dd0"
      },
      "execution_count": 6,
      "outputs": [
        {
          "output_type": "execute_result",
          "data": {
            "text/plain": [
              "(57, 62)"
            ]
          },
          "metadata": {},
          "execution_count": 6
        }
      ]
    },
    {
      "cell_type": "markdown",
      "source": [
        "Число (и % от общего числа в исходном файле) генов, которые аннотированы в БД GenBank и для которых предсказание обоих концов гена с помощью Genemark точно такое же."
      ],
      "metadata": {
        "id": "GuYT0nsOeEAH"
      }
    },
    {
      "cell_type": "markdown",
      "source": [
        "Здесь просто перебираем гены из GenBank и GeneMark и ищем совпадения (совпадения как начала, так и концов)"
      ],
      "metadata": {
        "id": "QyI_QmbkpTvp"
      }
    },
    {
      "cell_type": "code",
      "source": [
        "s = 0\n",
        "for i in df_genbank.index:\n",
        "    for j in df_genemark.index:\n",
        "        if df_genbank.start[i] == df_genemark.LeftEnd[j] and df_genbank.end[i] == df_genemark.RightEnd[j]:\n",
        "            s += 1\n",
        "            break\n",
        "\n",
        "print(s, round(s / len(df_genbank) * 100, 2))"
      ],
      "metadata": {
        "colab": {
          "base_uri": "https://localhost:8080/"
        },
        "id": "CZcWarbteDA4",
        "outputId": "c82b31bf-114c-44b7-c68d-695d647118f2"
      },
      "execution_count": 7,
      "outputs": [
        {
          "output_type": "stream",
          "name": "stdout",
          "text": [
            "0 0.0\n"
          ]
        }
      ]
    },
    {
      "cell_type": "markdown",
      "source": [
        "Число (и %) генов, для которых аннотация только N-конца белка не совпадает с аннотацией (не забывайте смотреть на ориентацию гена)\n"
      ],
      "metadata": {
        "id": "cQAvbwy_esqf"
      }
    },
    {
      "cell_type": "markdown",
      "source": [
        "Здесь для каждого начала гена из GenBank проверяем есть ли он в начале какого-нибудь гена из GeneMark"
      ],
      "metadata": {
        "id": "eyMPg-yapmnx"
      }
    },
    {
      "cell_type": "code",
      "source": [
        "s = 0\n",
        "for e in df_genbank.start:\n",
        "    if e not in list(df_genemark.LeftEnd):\n",
        "        s += 1\n",
        "\n",
        "print(s, round(s / len(df_genbank) * 100, 2))"
      ],
      "metadata": {
        "colab": {
          "base_uri": "https://localhost:8080/"
        },
        "id": "-rbjzV4dSCT2",
        "outputId": "0119aa77-31cb-491b-bb7a-8d9196a83ddb"
      },
      "execution_count": 8,
      "outputs": [
        {
          "output_type": "stream",
          "name": "stdout",
          "text": [
            "57 100.0\n"
          ]
        }
      ]
    },
    {
      "cell_type": "markdown",
      "source": [
        "Число (и %) генов, для которых аннотация только С-конца белка не совпадает с аннотацией Genemark.\n"
      ],
      "metadata": {
        "id": "n9xF1IpZfrmf"
      }
    },
    {
      "cell_type": "markdown",
      "source": [
        "Здесь для каждого конца гена из GenBank проверяем есть ли он в конце какого-нибудь гена из GeneMark"
      ],
      "metadata": {
        "id": "65jKJhGKpz_B"
      }
    },
    {
      "cell_type": "code",
      "source": [
        "s = 0\n",
        "for e in df_genbank.end:\n",
        "    if e not in list(df_genemark.RightEnd):\n",
        "        s += 1\n",
        "\n",
        "print(s, round(s / len(df_genbank) * 100, 2))"
      ],
      "metadata": {
        "colab": {
          "base_uri": "https://localhost:8080/"
        },
        "id": "m9TDwZJ4TRGe",
        "outputId": "e9e16d1b-1c86-47c1-cb6b-df1d6dd5c779"
      },
      "execution_count": 9,
      "outputs": [
        {
          "output_type": "stream",
          "name": "stdout",
          "text": [
            "49 85.96\n"
          ]
        }
      ]
    },
    {
      "cell_type": "markdown",
      "source": [
        "Число (и %) генов, для которых аннотация обоих концов не совпадает с аннотацией Genemark."
      ],
      "metadata": {
        "id": "NWVf70y2guTH"
      }
    },
    {
      "cell_type": "markdown",
      "source": [
        "Здесь итерируемся по всем генам из GenBank и GenMark. Для каждого гена из GenBank проверяем отсутствие совпадения (то есть его начало и конец не совпадают с началом и концом какого-либо гена из GenMark)  "
      ],
      "metadata": {
        "id": "ZzYULidfp7Pp"
      }
    },
    {
      "cell_type": "code",
      "source": [
        "s = 0\n",
        "for i in df_genbank.index:\n",
        "    cond = False\n",
        "    for j in df_genemark.index:\n",
        "        if df_genbank.start[i] == df_genemark.LeftEnd[j] and df_genbank.end[i] == df_genemark.RightEnd[j]:\n",
        "            cond = True\n",
        "            break\n",
        "    if not cond:\n",
        "        s += 1\n",
        "\n",
        "print(s, round(s / len(df_genbank) * 100, 2))"
      ],
      "metadata": {
        "colab": {
          "base_uri": "https://localhost:8080/"
        },
        "id": "CLlPmCTggrAo",
        "outputId": "2a47048c-cf81-43f8-f4f1-d80c4fa43464"
      },
      "execution_count": 10,
      "outputs": [
        {
          "output_type": "stream",
          "name": "stdout",
          "text": [
            "57 100.0\n"
          ]
        }
      ]
    },
    {
      "cell_type": "markdown",
      "source": [
        "Число предсказанных генов не пересекающихся с генами из записи"
      ],
      "metadata": {
        "id": "Z87ujdLQg20A"
      }
    },
    {
      "cell_type": "markdown",
      "source": [
        "Здесь опять же итерируемся как по генам из GeneMark, так и по генам из GenBank. Если для очередного гена из GeneMark нет ни одного гена из GenBank, с которым он пересекатеся, то инкрементируем счетчик. В данном случае пересечение - это либо нахождение начала конца одного гена между началом и концом другого гена, либо нахождение конца одного одного гена между началом и концом другого гена,\n",
        "либо вложенность"
      ],
      "metadata": {
        "id": "jSxihhbcqcSY"
      }
    },
    {
      "cell_type": "code",
      "source": [
        "s = 0\n",
        "for i in df_genemark.index:\n",
        "    cond = False\n",
        "    for j in df_genbank.index:\n",
        "        inters1 = (df_genemark.LeftEnd[i] >= df_genbank.start[j] and df_genemark.LeftEnd[i] <= df_genbank.end[j])\n",
        "        inters2 = (df_genemark.RightEnd[i] >= df_genbank.start[j] and df_genemark.RightEnd[i] <= df_genbank.end[j])\n",
        "        inters3 = (df_genemark.LeftEnd[i] <= df_genbank.start[j] and df_genemark.RightEnd[i] >= df_genbank.end[j])\n",
        "        if inters1 or inters2 or inters3:\n",
        "            cond = True\n",
        "            break\n",
        "    if not cond:\n",
        "        s += 1\n",
        "\n",
        "print(s, round(s / len(df_genemark) * 100, 2))"
      ],
      "metadata": {
        "colab": {
          "base_uri": "https://localhost:8080/"
        },
        "id": "RBBcU0tCg6U4",
        "outputId": "43eac381-244e-4686-98b9-3a3185c7c7f1"
      },
      "execution_count": 11,
      "outputs": [
        {
          "output_type": "stream",
          "name": "stdout",
          "text": [
            "0 0.0\n"
          ]
        }
      ]
    },
    {
      "cell_type": "markdown",
      "source": [
        "Число генов в записи не пересекающихся с предсказаниями"
      ],
      "metadata": {
        "id": "8E_ET6PXg7GI"
      }
    },
    {
      "cell_type": "markdown",
      "source": [
        "Аналогично предыдущему пункту, но GenBank и GeneMark меняются местами"
      ],
      "metadata": {
        "id": "b9JZqNzorkS6"
      }
    },
    {
      "cell_type": "code",
      "source": [
        "s = 0\n",
        "for i in df_genbank.index:\n",
        "    cond = False\n",
        "    for j in df_genemark.index:\n",
        "        inters1 = df_genbank.start[i] >= df_genemark.LeftEnd[j] and df_genbank.start[i] <= df_genemark.RightEnd[j]\n",
        "        inters2 = df_genbank.end[i] >= df_genemark.LeftEnd[j] and df_genbank.end[i] <= df_genemark.RightEnd[j]\n",
        "        inters3 = df_genbank.start[i] <= df_genemark.LeftEnd[j] and df_genbank.end[i] >= df_genemark.RightEnd[j]\n",
        "        if inters1 or inters2 or inters3:\n",
        "            cond = True\n",
        "            break\n",
        "    if not cond:\n",
        "        s += 1\n",
        "\n",
        "print(s, round(s / len(df_genbank) * 100, 2))"
      ],
      "metadata": {
        "colab": {
          "base_uri": "https://localhost:8080/"
        },
        "id": "aCIpg2XNg_S4",
        "outputId": "e507cbb6-7fd2-4008-9dc7-1f5eae08d99f"
      },
      "execution_count": 12,
      "outputs": [
        {
          "output_type": "stream",
          "name": "stdout",
          "text": [
            "8 14.04\n"
          ]
        }
      ]
    }
  ]
}