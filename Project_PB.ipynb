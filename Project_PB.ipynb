{
  "nbformat": 4,
  "nbformat_minor": 0,
  "metadata": {
    "colab": {
      "provenance": [],
      "authorship_tag": "ABX9TyNZXMM0eUn/39rZsyVrkFJa",
      "include_colab_link": true
    },
    "kernelspec": {
      "name": "python3",
      "display_name": "Python 3"
    },
    "language_info": {
      "name": "python"
    }
  },
  "cells": [
    {
      "cell_type": "markdown",
      "metadata": {
        "id": "view-in-github",
        "colab_type": "text"
      },
      "source": [
        "<a href=\"https://colab.research.google.com/github/Kridr/HW_PB_HSE/blob/main/Project_PB.ipynb\" target=\"_parent\"><img src=\"https://colab.research.google.com/assets/colab-badge.svg\" alt=\"Open In Colab\"/></a>"
      ]
    },
    {
      "cell_type": "code",
      "execution_count": null,
      "metadata": {
        "colab": {
          "base_uri": "https://localhost:8080/"
        },
        "id": "CZPD_wZ_sfz3",
        "outputId": "b6160839-d775-41a2-98ba-1477f8c044f5"
      },
      "outputs": [
        {
          "output_type": "stream",
          "name": "stdout",
          "text": [
            "Looking in indexes: https://pypi.org/simple, https://us-python.pkg.dev/colab-wheels/public/simple/\n",
            "Requirement already satisfied: biopython in /usr/local/lib/python3.8/dist-packages (1.80)\n",
            "Requirement already satisfied: numpy in /usr/local/lib/python3.8/dist-packages (from biopython) (1.21.6)\n"
          ]
        }
      ],
      "source": [
        "!pip install biopython"
      ]
    },
    {
      "cell_type": "code",
      "source": [
        "from Bio import SeqIO\n",
        "from Bio import Entrez\n",
        "from Bio.Seq import Seq\n",
        "from Bio.SeqRecord import SeqRecord\n",
        "from Bio.SeqFeature import SeqFeature, FeatureLocation"
      ],
      "metadata": {
        "id": "jFf7d5QavHRh"
      },
      "execution_count": null,
      "outputs": []
    },
    {
      "cell_type": "code",
      "source": [
        "# Create a sequence\n",
        "with open(\"fragment22.fasta\") as handle:\n",
        "    for record in SeqIO.parse(handle, \"fasta\"): # Там всего одна последовательность\n",
        "        sequence_object = Seq(record.seq)"
      ],
      "metadata": {
        "id": "mtBIrzrfsjyB"
      },
      "execution_count": null,
      "outputs": []
    },
    {
      "cell_type": "code",
      "source": [
        "import pandas as pd"
      ],
      "metadata": {
        "id": "8yqJHebfwEla"
      },
      "execution_count": null,
      "outputs": []
    },
    {
      "cell_type": "code",
      "source": [
        "names = [\n",
        "    'query acc.ver', \n",
        "    'subject acc.ver', \n",
        "    '% identity', \n",
        "    'alignment length', \n",
        "    'mismatches', \n",
        "    'gap opens', \n",
        "    'q. start', \n",
        "    'q. end', \n",
        "    's. start', \n",
        "    's. end', \n",
        "    'evalue', \n",
        "    'bit score', \n",
        "    '% positives'\n",
        "]\n",
        "\n",
        "uniprot_df = pd.read_csv('uniprot_blastp.csv', header=None, names=names)\n",
        "pdb_df = pd.read_csv('pdb_blastp.csv', header=None, names=names)\n",
        "refseq_select_prot_df = pd.read_csv('refseq_select_prot_blastp.csv', header=None, names=names)\n",
        "pataa_df = pd.read_csv('pataa_blastp.csv', header=None, names=names)\n",
        "refseq_protein_df = pd.read_csv('refseq_protein_blastp.csv', header=None, names=names)\n",
        "tsa_nr_df = pd.read_csv('tsa_nr_blastp.csv', header=None, names=names)\n",
        "env_nr_df = pd.read_csv('env_nr_blastp.csv', header=None, names=names)\n",
        "\n",
        "uniprot_df.head()"
      ],
      "metadata": {
        "colab": {
          "base_uri": "https://localhost:8080/",
          "height": 374
        },
        "id": "LYRXcmjQwIS6",
        "outputId": "d9b553c2-6b69-4077-e272-2d334b5de486"
      },
      "execution_count": null,
      "outputs": [
        {
          "output_type": "execute_result",
          "data": {
            "text/plain": [
              "            query acc.ver subject acc.ver  % identity  alignment length  \\\n",
              "0   lcl|ORF49:31045:31941        Q966L9.1      44.144               111   \n",
              "1      lcl|ORF84:812:1537        P75853.2      38.889               198   \n",
              "2      lcl|ORF84:812:1537        P40400.1      29.208               202   \n",
              "3   lcl|ORF99:41885:42196        P42063.1      44.118                34   \n",
              "4  lcl|ORF100:42377:42619        P24139.1      42.373                59   \n",
              "\n",
              "   mismatches  gap opens  q. start  q. end  s. start  s. end        evalue  \\\n",
              "0          50          3       170     276        69     171  3.290000e-05   \n",
              "1         113          4        47     241        27     219  4.740000e-42   \n",
              "2         133          5        36     231        20     217  3.150000e-17   \n",
              "3          19          0         3      36        29      62  2.000000e-02   \n",
              "4          34          0         2      60       108     166  2.890000e-05   \n",
              "\n",
              "   bit score  % positives  \n",
              "0       48.9        48.65  \n",
              "1      148.0        60.10  \n",
              "2       82.4        50.50  \n",
              "3       36.2        61.76  \n",
              "4       43.1        62.71  "
            ],
            "text/html": [
              "\n",
              "  <div id=\"df-3b598bc8-16f5-4b29-9541-793e7f5afb02\">\n",
              "    <div class=\"colab-df-container\">\n",
              "      <div>\n",
              "<style scoped>\n",
              "    .dataframe tbody tr th:only-of-type {\n",
              "        vertical-align: middle;\n",
              "    }\n",
              "\n",
              "    .dataframe tbody tr th {\n",
              "        vertical-align: top;\n",
              "    }\n",
              "\n",
              "    .dataframe thead th {\n",
              "        text-align: right;\n",
              "    }\n",
              "</style>\n",
              "<table border=\"1\" class=\"dataframe\">\n",
              "  <thead>\n",
              "    <tr style=\"text-align: right;\">\n",
              "      <th></th>\n",
              "      <th>query acc.ver</th>\n",
              "      <th>subject acc.ver</th>\n",
              "      <th>% identity</th>\n",
              "      <th>alignment length</th>\n",
              "      <th>mismatches</th>\n",
              "      <th>gap opens</th>\n",
              "      <th>q. start</th>\n",
              "      <th>q. end</th>\n",
              "      <th>s. start</th>\n",
              "      <th>s. end</th>\n",
              "      <th>evalue</th>\n",
              "      <th>bit score</th>\n",
              "      <th>% positives</th>\n",
              "    </tr>\n",
              "  </thead>\n",
              "  <tbody>\n",
              "    <tr>\n",
              "      <th>0</th>\n",
              "      <td>lcl|ORF49:31045:31941</td>\n",
              "      <td>Q966L9.1</td>\n",
              "      <td>44.144</td>\n",
              "      <td>111</td>\n",
              "      <td>50</td>\n",
              "      <td>3</td>\n",
              "      <td>170</td>\n",
              "      <td>276</td>\n",
              "      <td>69</td>\n",
              "      <td>171</td>\n",
              "      <td>3.290000e-05</td>\n",
              "      <td>48.9</td>\n",
              "      <td>48.65</td>\n",
              "    </tr>\n",
              "    <tr>\n",
              "      <th>1</th>\n",
              "      <td>lcl|ORF84:812:1537</td>\n",
              "      <td>P75853.2</td>\n",
              "      <td>38.889</td>\n",
              "      <td>198</td>\n",
              "      <td>113</td>\n",
              "      <td>4</td>\n",
              "      <td>47</td>\n",
              "      <td>241</td>\n",
              "      <td>27</td>\n",
              "      <td>219</td>\n",
              "      <td>4.740000e-42</td>\n",
              "      <td>148.0</td>\n",
              "      <td>60.10</td>\n",
              "    </tr>\n",
              "    <tr>\n",
              "      <th>2</th>\n",
              "      <td>lcl|ORF84:812:1537</td>\n",
              "      <td>P40400.1</td>\n",
              "      <td>29.208</td>\n",
              "      <td>202</td>\n",
              "      <td>133</td>\n",
              "      <td>5</td>\n",
              "      <td>36</td>\n",
              "      <td>231</td>\n",
              "      <td>20</td>\n",
              "      <td>217</td>\n",
              "      <td>3.150000e-17</td>\n",
              "      <td>82.4</td>\n",
              "      <td>50.50</td>\n",
              "    </tr>\n",
              "    <tr>\n",
              "      <th>3</th>\n",
              "      <td>lcl|ORF99:41885:42196</td>\n",
              "      <td>P42063.1</td>\n",
              "      <td>44.118</td>\n",
              "      <td>34</td>\n",
              "      <td>19</td>\n",
              "      <td>0</td>\n",
              "      <td>3</td>\n",
              "      <td>36</td>\n",
              "      <td>29</td>\n",
              "      <td>62</td>\n",
              "      <td>2.000000e-02</td>\n",
              "      <td>36.2</td>\n",
              "      <td>61.76</td>\n",
              "    </tr>\n",
              "    <tr>\n",
              "      <th>4</th>\n",
              "      <td>lcl|ORF100:42377:42619</td>\n",
              "      <td>P24139.1</td>\n",
              "      <td>42.373</td>\n",
              "      <td>59</td>\n",
              "      <td>34</td>\n",
              "      <td>0</td>\n",
              "      <td>2</td>\n",
              "      <td>60</td>\n",
              "      <td>108</td>\n",
              "      <td>166</td>\n",
              "      <td>2.890000e-05</td>\n",
              "      <td>43.1</td>\n",
              "      <td>62.71</td>\n",
              "    </tr>\n",
              "  </tbody>\n",
              "</table>\n",
              "</div>\n",
              "      <button class=\"colab-df-convert\" onclick=\"convertToInteractive('df-3b598bc8-16f5-4b29-9541-793e7f5afb02')\"\n",
              "              title=\"Convert this dataframe to an interactive table.\"\n",
              "              style=\"display:none;\">\n",
              "        \n",
              "  <svg xmlns=\"http://www.w3.org/2000/svg\" height=\"24px\"viewBox=\"0 0 24 24\"\n",
              "       width=\"24px\">\n",
              "    <path d=\"M0 0h24v24H0V0z\" fill=\"none\"/>\n",
              "    <path d=\"M18.56 5.44l.94 2.06.94-2.06 2.06-.94-2.06-.94-.94-2.06-.94 2.06-2.06.94zm-11 1L8.5 8.5l.94-2.06 2.06-.94-2.06-.94L8.5 2.5l-.94 2.06-2.06.94zm10 10l.94 2.06.94-2.06 2.06-.94-2.06-.94-.94-2.06-.94 2.06-2.06.94z\"/><path d=\"M17.41 7.96l-1.37-1.37c-.4-.4-.92-.59-1.43-.59-.52 0-1.04.2-1.43.59L10.3 9.45l-7.72 7.72c-.78.78-.78 2.05 0 2.83L4 21.41c.39.39.9.59 1.41.59.51 0 1.02-.2 1.41-.59l7.78-7.78 2.81-2.81c.8-.78.8-2.07 0-2.86zM5.41 20L4 18.59l7.72-7.72 1.47 1.35L5.41 20z\"/>\n",
              "  </svg>\n",
              "      </button>\n",
              "      \n",
              "  <style>\n",
              "    .colab-df-container {\n",
              "      display:flex;\n",
              "      flex-wrap:wrap;\n",
              "      gap: 12px;\n",
              "    }\n",
              "\n",
              "    .colab-df-convert {\n",
              "      background-color: #E8F0FE;\n",
              "      border: none;\n",
              "      border-radius: 50%;\n",
              "      cursor: pointer;\n",
              "      display: none;\n",
              "      fill: #1967D2;\n",
              "      height: 32px;\n",
              "      padding: 0 0 0 0;\n",
              "      width: 32px;\n",
              "    }\n",
              "\n",
              "    .colab-df-convert:hover {\n",
              "      background-color: #E2EBFA;\n",
              "      box-shadow: 0px 1px 2px rgba(60, 64, 67, 0.3), 0px 1px 3px 1px rgba(60, 64, 67, 0.15);\n",
              "      fill: #174EA6;\n",
              "    }\n",
              "\n",
              "    [theme=dark] .colab-df-convert {\n",
              "      background-color: #3B4455;\n",
              "      fill: #D2E3FC;\n",
              "    }\n",
              "\n",
              "    [theme=dark] .colab-df-convert:hover {\n",
              "      background-color: #434B5C;\n",
              "      box-shadow: 0px 1px 3px 1px rgba(0, 0, 0, 0.15);\n",
              "      filter: drop-shadow(0px 1px 2px rgba(0, 0, 0, 0.3));\n",
              "      fill: #FFFFFF;\n",
              "    }\n",
              "  </style>\n",
              "\n",
              "      <script>\n",
              "        const buttonEl =\n",
              "          document.querySelector('#df-3b598bc8-16f5-4b29-9541-793e7f5afb02 button.colab-df-convert');\n",
              "        buttonEl.style.display =\n",
              "          google.colab.kernel.accessAllowed ? 'block' : 'none';\n",
              "\n",
              "        async function convertToInteractive(key) {\n",
              "          const element = document.querySelector('#df-3b598bc8-16f5-4b29-9541-793e7f5afb02');\n",
              "          const dataTable =\n",
              "            await google.colab.kernel.invokeFunction('convertToInteractive',\n",
              "                                                     [key], {});\n",
              "          if (!dataTable) return;\n",
              "\n",
              "          const docLinkHtml = 'Like what you see? Visit the ' +\n",
              "            '<a target=\"_blank\" href=https://colab.research.google.com/notebooks/data_table.ipynb>data table notebook</a>'\n",
              "            + ' to learn more about interactive tables.';\n",
              "          element.innerHTML = '';\n",
              "          dataTable['output_type'] = 'display_data';\n",
              "          await google.colab.output.renderOutput(dataTable, element);\n",
              "          const docLink = document.createElement('div');\n",
              "          docLink.innerHTML = docLinkHtml;\n",
              "          element.appendChild(docLink);\n",
              "        }\n",
              "      </script>\n",
              "    </div>\n",
              "  </div>\n",
              "  "
            ]
          },
          "metadata": {},
          "execution_count": 194
        }
      ]
    },
    {
      "cell_type": "code",
      "source": [
        "orfs = {}\n",
        "with open('__all.fa') as f:\n",
        "    seq = ''\n",
        "    name = ''\n",
        "    for line in f.readlines():\n",
        "        if line and line[0] == '>':\n",
        "            if seq and name:\n",
        "                orfs[name] = seq\n",
        "            seq = ''\n",
        "            name = line.split()[0][1:]\n",
        "        else:\n",
        "            seq += line.strip()"
      ],
      "metadata": {
        "id": "-FKQ3UpAfYPL"
      },
      "execution_count": null,
      "outputs": []
    },
    {
      "cell_type": "code",
      "source": [
        "# Create a record\n",
        "record = SeqRecord(sequence_object,\n",
        "                   id='fragement22', # random accession number\n",
        "                   name='fragement22',\n",
        "                   description='fragement22')\n",
        "record.annotations = {'molecule_type': 'DNA'}"
      ],
      "metadata": {
        "id": "GBOHv927vKKJ"
      },
      "execution_count": 244,
      "outputs": []
    },
    {
      "cell_type": "code",
      "source": [
        "number = 0"
      ],
      "metadata": {
        "id": "G7UNKqjXiGOz"
      },
      "execution_count": 245,
      "outputs": []
    },
    {
      "cell_type": "code",
      "source": [
        "s = set()\n",
        "def add_features_from_df(df, identity_th=99, evalue_th = 1e-3):\n",
        "    global record, number\n",
        "    for i in df.index:\n",
        "        if df.at[i, '% identity'] > identity_th and df.at[i, 'evalue'] < evalue_th:\n",
        "            if df.at[i, 'query acc.ver'] in s:\n",
        "                continue\n",
        "            try:\n",
        "                e = Entrez.efetch(db=\"biosample\", id=uniprot_df['subject acc.ver'][120], retmode='text')\n",
        "                e = e.read().split('\\n')\n",
        "                feature = SeqFeature(\n",
        "                    FeatureLocation(start=int(df.at[i, 'q. start']), end=int(df.at[i, 'q. end'])),                \n",
        "                    qualifiers={\n",
        "                        'gene': e[0],\n",
        "                        'product': df.at[i, 'subject acc.ver'],\n",
        "                        'translation': orfs[df.at[i, 'query acc.ver']][df.at[i, 'q. start']:df.at[i, 'q. end']],\n",
        "                        'note': f'{e[1]} # Identity: {df.at[i, \"subject acc.ver\"]} # Positives: {df.at[i, \"% positives\"]} # Evalue: {df.at[i, \"evalue\"]}',\n",
        "                    }, \n",
        "                    type='misc_feature'\n",
        "                )\n",
        "                record.features.append(feature)\n",
        "                number += 1\n",
        "                s.add(df.at[i, 'query acc.ver'])\n",
        "            except Exception as r: \n",
        "                print(r)"
      ],
      "metadata": {
        "id": "45YtKsus6CUZ"
      },
      "execution_count": 246,
      "outputs": []
    },
    {
      "cell_type": "code",
      "source": [
        "add_features_from_df(uniprot_df)\n",
        "add_features_from_df(pdb_df)\n",
        "add_features_from_df(refseq_select_prot_df)\n",
        "add_features_from_df(pataa_df)\n",
        "add_features_from_df(refseq_protein_df)\n",
        "add_features_from_df(tsa_nr_df)\n",
        "add_features_from_df(env_nr_df)"
      ],
      "metadata": {
        "colab": {
          "base_uri": "https://localhost:8080/"
        },
        "id": "rYCsU7MohJRc",
        "outputId": "3ba2b2b1-6123-4b6f-b382-3fdee25cbdbc"
      },
      "execution_count": 247,
      "outputs": [
        {
          "output_type": "stream",
          "name": "stderr",
          "text": [
            "/usr/local/lib/python3.8/dist-packages/Bio/Entrez/__init__.py:686: UserWarning: \n",
            "            Email address is not specified.\n",
            "\n",
            "            To make use of NCBI's E-utilities, NCBI requires you to specify your\n",
            "            email address with each request.  As an example, if your email address\n",
            "            is A.N.Other@example.com, you can specify it as follows:\n",
            "               from Bio import Entrez\n",
            "               Entrez.email = 'A.N.Other@example.com'\n",
            "            In case of excessive usage of the E-utilities, NCBI will attempt to contact\n",
            "            a user at the email address provided before blocking access to the\n",
            "            E-utilities.\n",
            "  warnings.warn(\n"
          ]
        }
      ]
    },
    {
      "cell_type": "code",
      "source": [
        "# Save as GenBank file\n",
        "with open('my.gb', 'w') as output_file:\n",
        "    SeqIO.write(record, output_file, 'genbank')"
      ],
      "metadata": {
        "id": "_Q6mpbrC48O5"
      },
      "execution_count": 248,
      "outputs": []
    },
    {
      "cell_type": "code",
      "source": [
        "number"
      ],
      "metadata": {
        "colab": {
          "base_uri": "https://localhost:8080/"
        },
        "id": "kB7hrmFBr89k",
        "outputId": "41448d9f-934f-424f-ba2e-a1984f29622d"
      },
      "execution_count": 249,
      "outputs": [
        {
          "output_type": "execute_result",
          "data": {
            "text/plain": [
              "4"
            ]
          },
          "metadata": {},
          "execution_count": 249
        }
      ]
    },
    {
      "cell_type": "code",
      "source": [
        "s"
      ],
      "metadata": {
        "colab": {
          "base_uri": "https://localhost:8080/"
        },
        "id": "pH6vzCxT-MW9",
        "outputId": "feeccee8-7348-4e35-db78-650442404fe4"
      },
      "execution_count": 250,
      "outputs": [
        {
          "output_type": "execute_result",
          "data": {
            "text/plain": [
              "{'lcl|ORF169:38333:29508',\n",
              " 'lcl|ORF207:31459:31280',\n",
              " 'lcl|ORF275:39729:38983',\n",
              " 'lcl|ORF49:31045:31941'}"
            ]
          },
          "metadata": {},
          "execution_count": 250
        }
      ]
    }
  ]
}