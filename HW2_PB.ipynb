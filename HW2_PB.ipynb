{
  "nbformat": 4,
  "nbformat_minor": 0,
  "metadata": {
    "colab": {
      "provenance": [],
      "authorship_tag": "ABX9TyMOAEBYOyFdEH6Ing83iFSc",
      "include_colab_link": true
    },
    "kernelspec": {
      "name": "python3",
      "display_name": "Python 3"
    },
    "language_info": {
      "name": "python"
    }
  },
  "cells": [
    {
      "cell_type": "markdown",
      "metadata": {
        "id": "view-in-github",
        "colab_type": "text"
      },
      "source": [
        "<a href=\"https://colab.research.google.com/github/Kridr/HW_PB_HSE/blob/main/HW2_PB.ipynb\" target=\"_parent\"><img src=\"https://colab.research.google.com/assets/colab-badge.svg\" alt=\"Open In Colab\"/></a>"
      ]
    },
    {
      "cell_type": "markdown",
      "source": [
        "Найдите заданный ген в поиске Ensembl. В меню слева выберите Comparative Genomics → Genomic alignments. Нажмите Select another alignment, введите название организма – Chimpanzee → Apply. Сохраните полученное выравнивание (Download)\n",
        "\n",
        "Мой геном - COIL"
      ],
      "metadata": {
        "id": "g-lf_g-VCTIq"
      }
    },
    {
      "cell_type": "markdown",
      "source": [
        "Оцените процент различий на 100 нуклеотидов"
      ],
      "metadata": {
        "id": "aMUsYiDe4G6E"
      }
    },
    {
      "cell_type": "code",
      "source": [
        "!pip install biopython"
      ],
      "metadata": {
        "colab": {
          "base_uri": "https://localhost:8080/"
        },
        "id": "dnScpAjB4Mfc",
        "outputId": "0a989210-7406-4224-d152-b0bbff90732e"
      },
      "execution_count": 1,
      "outputs": [
        {
          "output_type": "stream",
          "name": "stdout",
          "text": [
            "Looking in indexes: https://pypi.org/simple, https://us-python.pkg.dev/colab-wheels/public/simple/\n",
            "Collecting biopython\n",
            "  Downloading biopython-1.79-cp37-cp37m-manylinux_2_5_x86_64.manylinux1_x86_64.whl (2.3 MB)\n",
            "\u001b[K     |████████████████████████████████| 2.3 MB 5.6 MB/s \n",
            "\u001b[?25hRequirement already satisfied: numpy in /usr/local/lib/python3.7/dist-packages (from biopython) (1.21.6)\n",
            "Installing collected packages: biopython\n",
            "Successfully installed biopython-1.79\n"
          ]
        }
      ]
    },
    {
      "cell_type": "code",
      "execution_count": 3,
      "metadata": {
        "colab": {
          "base_uri": "https://localhost:8080/"
        },
        "id": "rTynO9wc28Ch",
        "outputId": "3457db17-ecf5-4ede-91ca-b02e685f8dc8"
      },
      "outputs": [
        {
          "output_type": "execute_result",
          "data": {
            "text/plain": [
              "1.7327164804469248"
            ]
          },
          "metadata": {},
          "execution_count": 3
        }
      ],
      "source": [
        "from Bio import AlignIO\n",
        "alignment=AlignIO.read(open(\"Human__lastz.fa\"), 'fasta')\n",
        "seq1=str(alignment[0].seq)\n",
        "seq2=str(alignment[1].seq)\n",
        "matches = sum(nuc1 == nuc2 for nuc1, nuc2 in zip(seq1, seq2))\n",
        "identity = 100.0 * matches / len(seq1)\n",
        "\n",
        "100 - identity #how many percents of mismatches"
      ]
    }
  ]
}