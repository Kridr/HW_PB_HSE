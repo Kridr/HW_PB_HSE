{
  "nbformat": 4,
  "nbformat_minor": 0,
  "metadata": {
    "colab": {
      "provenance": [],
      "authorship_tag": "ABX9TyO4DhQ/JLCo9xhA1LuHAhEj",
      "include_colab_link": true
    },
    "kernelspec": {
      "name": "python3",
      "display_name": "Python 3"
    },
    "language_info": {
      "name": "python"
    }
  },
  "cells": [
    {
      "cell_type": "markdown",
      "metadata": {
        "id": "view-in-github",
        "colab_type": "text"
      },
      "source": [
        "<a href=\"https://colab.research.google.com/github/Kridr/HW_PB_HSE/blob/main/HW8_PB.ipynb\" target=\"_parent\"><img src=\"https://colab.research.google.com/assets/colab-badge.svg\" alt=\"Open In Colab\"/></a>"
      ]
    },
    {
      "cell_type": "code",
      "execution_count": 1,
      "metadata": {
        "colab": {
          "base_uri": "https://localhost:8080/"
        },
        "id": "3lhtwP6cCcZj",
        "outputId": "0ae67ad8-0184-43c8-875e-2bba2273458e"
      },
      "outputs": [
        {
          "output_type": "stream",
          "name": "stdout",
          "text": [
            "Looking in indexes: https://pypi.org/simple, https://us-python.pkg.dev/colab-wheels/public/simple/\n",
            "Collecting biopython\n",
            "  Downloading biopython-1.80-cp37-cp37m-manylinux_2_17_x86_64.manylinux2014_x86_64.whl (3.0 MB)\n",
            "\u001b[K     |████████████████████████████████| 3.0 MB 4.8 MB/s \n",
            "\u001b[?25hRequirement already satisfied: numpy in /usr/local/lib/python3.7/dist-packages (from biopython) (1.21.6)\n",
            "Installing collected packages: biopython\n",
            "Successfully installed biopython-1.80\n"
          ]
        }
      ],
      "source": [
        "!pip install biopython"
      ]
    },
    {
      "cell_type": "code",
      "source": [
        "from Bio import SeqIO\n",
        "import urllib.request\n",
        "import re"
      ],
      "metadata": {
        "id": "8lzlt-eCCgPU"
      },
      "execution_count": 2,
      "outputs": []
    },
    {
      "cell_type": "code",
      "source": [
        "l=['CP000036.1'] # id генома в базе ensemble"
      ],
      "metadata": {
        "id": "_kcKqPQ3Ch2L"
      },
      "execution_count": 3,
      "outputs": []
    },
    {
      "cell_type": "code",
      "source": [
        "from Bio import SeqIO\n",
        "import urllib.request\n",
        "folder=\"./\"\n",
        "records=[]\n",
        "b=[]\n",
        "for genome in l:\n",
        "    #раньше такая ссылка была\n",
        "    #genomeurl='https://www.ebi.ac.uk/ena/data/view/'+genome+'&display=text&download=txt&filename='+genome+'.txt'\n",
        "    genomeurl='https://www.ebi.ac.uk/ena/browser/api/embl/'+genome+'?download=true' # ссылка на скачивание\n",
        "    print(genomeurl)\n",
        "    g_file= genome + '.gbk'\n",
        "    handle =urllib.request.urlretrieve(genomeurl,g_file) # скачиваем\n",
        "    urllib.request.urlcleanup()"
      ],
      "metadata": {
        "colab": {
          "base_uri": "https://localhost:8080/"
        },
        "id": "7tfOD4jGCkFb",
        "outputId": "570bcea9-fcf2-4bad-92e6-c3be5211af3f"
      },
      "execution_count": 4,
      "outputs": [
        {
          "output_type": "stream",
          "name": "stdout",
          "text": [
            "https://www.ebi.ac.uk/ena/browser/api/embl/CP000036.1?download=true\n"
          ]
        }
      ]
    },
    {
      "cell_type": "code",
      "source": [
        "records=[]\n",
        "b=[]\n",
        "#размер upstream участка\n",
        "prom_size=100\n",
        "import re\n",
        "from Bio.SeqRecord import SeqRecord\n",
        "for genome in l:\n",
        "    g_file=folder + genome + '.gbk' # путь к файлу\n",
        "    print(g_file)\n",
        "    handle = open(g_file) # открываем\n",
        "    record=SeqIO.read(handle, \"embl\") # считываем запись если несколько то parse\n",
        "    handle.close()\n",
        "    genes=[]\n",
        "    proms=[]\n",
        "    c=0\n",
        "    for feature in record.features:\n",
        "        if feature.type==\"CDS\":\n",
        "            try:\n",
        "                f=\"1.5.2.1 : purine biosynthesis\" in feature.qualifiers['function']\n",
        "            except KeyError:\n",
        "                f=False\n",
        "                try:\n",
        "                    if re.search(\"purH|folD|purL|guaA|purT|purA|purM|purC|purR\",feature.qualifiers['gene'][0]):\n",
        "                        c+=1\n",
        "                        if feature.location.strand==1:\n",
        "                            start=feature.location.start-prom_size\n",
        "                            end=feature.location.start\n",
        "                            s=record.seq[start:end]\n",
        "                        else:\n",
        "                            start=feature.location.end\n",
        "                            end=feature.location.end+prom_size\n",
        "                            s=record.seq[start:end].reverse_complement()\n",
        "                        proms.append(SeqRecord(s, id=feature.qualifiers['gene'][0]+str(c),description=str(start)+\"-\"+str(end)))\n",
        "                except KeyError:\n",
        "                    f=False\n",
        "            if f:\n",
        "                c+=1\n",
        "                if feature.location.strand==1:\n",
        "                    start=feature.location.start-prom_size\n",
        "                    end=feature.location.start\n",
        "                    s=record.seq[start:end]\n",
        "                else:\n",
        "                    start=feature.location.end\n",
        "                    end=feature.location.end+prom_size\n",
        "                    s=record.seq[start:end].reverse_complement()\n",
        "                proms.append(SeqRecord(s, id=feature.qualifiers['gene'][0]+str(c),description=str(start)+\"-\"+str(end)))\n",
        "    file_name=folder + record.name + '.fasta'\n",
        "    print(file_name)\n",
        "    SeqIO.write(proms, file_name, \"fasta\")"
      ],
      "metadata": {
        "colab": {
          "base_uri": "https://localhost:8080/"
        },
        "id": "KBSbEMudCmFz",
        "outputId": "8c254da7-fa4c-4b6b-ad9c-cd86c9fffc50"
      },
      "execution_count": 8,
      "outputs": [
        {
          "output_type": "stream",
          "name": "stdout",
          "text": [
            "./CP000036.1.gbk\n",
            "./CP000036.fasta\n"
          ]
        }
      ]
    },
    {
      "cell_type": "code",
      "source": [
        "!cat CP000036.fasta"
      ],
      "metadata": {
        "colab": {
          "base_uri": "https://localhost:8080/"
        },
        "id": "OUk-8RP7EqwM",
        "outputId": "cf99a1a3-5420-46b2-a58e-8422f157f3bf"
      },
      "execution_count": 9,
      "outputs": [
        {
          "output_type": "stream",
          "name": "stdout",
          "text": [
            ">folD1 430671-430771\n",
            "TCACGCGATAAATCTGAAACGAAACCTGACAGCGCGCCCCGCTTCTGACAAAATAGGCGC\n",
            "ATCCCCTTCGACCTACGTAACAGATGGAATCCTCTCTCTG\n",
            ">purT2 1155871-1155971\n",
            "AGTATATTTCTTTTCGGTTGAGAAATCAAAATCAACAATAAAGACACACGCAAACGTTTT\n",
            "CGTTTATACTGCGCGCGGAATTAATCAGGGGATATTCGTT\n",
            ">purR3 1451148-1451248\n",
            "CGGCGTACCGCAACACTTTTGTTGTGCGTAAGGTGTGTAAAGGCAAACGTTTACCTTGCG\n",
            "ATTTTGCAGGAGCTGAAGTTAGGGTCTGGAGTGAAATGGA\n",
            ">purC4 2487662-2487762\n",
            "GTAGGTCGGATAAGGCGTTCTTGCCGCATCCGACAAAACATCCGGCACACCAGACAGCAA\n",
            "AAGATTTTAAAACGTTAATTCACACCCAGGAGTGATAAAG\n",
            ">purM5 2514748-2514848\n",
            "AAAAGGTTGTGCAAAGCAGCCTCGCAAACGTTTGCTTTCCCTGTTAGAATTGCGCCGAAT\n",
            "TTTATTTTTCTACCGCAAGTAACGCGTGGGGACCCAAGCA\n",
            ">guaA6 2528258-2528358\n",
            "AAGAGTCCCCGAACTACCGTCTGGGCTCCTGATTCTCTTCGCCCGACTTCATGTCGGGCG\n",
            "ATTTATATTATCTGTTTCACTTGCCTCGGAATAAGCGTCA\n",
            ">purL7 2592620-2592720\n",
            "ATTTCCACGCAAACGGTTTCGTCAGCGCATCAGATTCTTTATAATGACGCCCGTTTCCCC\n",
            "CCCCCTTGGGTACACCGAAAGCTTAGAAGACGAGAGACTT\n",
            ">purH8 4065934-4066034\n",
            "CGGGCGAAAAATAAGGATGCCCCGTTAGGGGCGTTAGCTGAGTTTTTCGCGAAAAATTCA\n",
            "GCTAACGCTCTCTGTAATAGTCAAATCCAGGGGATTTACC\n",
            ">purA9 4329592-4329692\n",
            "AAAAACAGACTGATCGAGGTCATTTTTGAGTGCAAAAAGTGCTGTAACTCTGAAAAAGCG\n",
            "ATGGTAGAATCCATTTTTAAGCAAACGGTGATTTTGAAAA\n"
          ]
        }
      ]
    }
  ]
}